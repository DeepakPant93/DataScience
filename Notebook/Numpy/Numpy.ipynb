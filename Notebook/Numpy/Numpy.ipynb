{
 "cells": [
  {
   "cell_type": "code",
   "execution_count": 1,
   "id": "e7399e69",
   "metadata": {},
   "outputs": [],
   "source": [
    "#conda install numpy   #anaconda prompt- one time process"
   ]
  },
  {
   "cell_type": "code",
   "execution_count": 3,
   "id": "91e4703b",
   "metadata": {},
   "outputs": [
    {
     "name": "stdout",
     "output_type": "stream",
     "text": [
      "Defaulting to user installation because normal site-packages is not writeable\n"
     ]
    },
    {
     "name": "stderr",
     "output_type": "stream",
     "text": [
      "ERROR: Invalid requirement: '#one'\n"
     ]
    }
   ],
   "source": [
    "!pip install numpy #one time process in jupyter notebook."
   ]
  },
  {
   "cell_type": "code",
   "execution_count": 4,
   "id": "9f665852",
   "metadata": {},
   "outputs": [],
   "source": [
    "#do it everytime you make a new jupyter notebook or open a jupyter notebook\n",
    "import numpy as np"
   ]
  },
  {
   "cell_type": "code",
   "execution_count": 5,
   "id": "e67df44e",
   "metadata": {},
   "outputs": [],
   "source": [
    "#numpy- numerical python"
   ]
  },
  {
   "cell_type": "code",
   "execution_count": null,
   "id": "1a255231",
   "metadata": {},
   "outputs": [],
   "source": [
    "#creating array by passing the list"
   ]
  },
  {
   "cell_type": "code",
   "execution_count": 7,
   "id": "68038dac",
   "metadata": {},
   "outputs": [],
   "source": [
    "list1= [2,4,6,8,10]"
   ]
  },
  {
   "cell_type": "code",
   "execution_count": 11,
   "id": "48aedc98",
   "metadata": {},
   "outputs": [],
   "source": [
    "list2= np.array(list1)"
   ]
  },
  {
   "cell_type": "code",
   "execution_count": 12,
   "id": "33a7d9c0",
   "metadata": {},
   "outputs": [
    {
     "data": {
      "text/plain": [
       "numpy.ndarray"
      ]
     },
     "execution_count": 12,
     "metadata": {},
     "output_type": "execute_result"
    }
   ],
   "source": [
    "type(list2)"
   ]
  },
  {
   "cell_type": "code",
   "execution_count": 13,
   "id": "4ff5fefc",
   "metadata": {},
   "outputs": [
    {
     "data": {
      "text/plain": [
       "array([1., 2., 3., 4., 5.])"
      ]
     },
     "execution_count": 13,
     "metadata": {},
     "output_type": "execute_result"
    }
   ],
   "source": [
    "list2/2"
   ]
  },
  {
   "cell_type": "code",
   "execution_count": 15,
   "id": "0d08f9f1",
   "metadata": {},
   "outputs": [
    {
     "data": {
      "text/plain": [
       "array([ 5,  7,  9, 11, 13])"
      ]
     },
     "execution_count": 15,
     "metadata": {},
     "output_type": "execute_result"
    }
   ],
   "source": [
    "list2+3"
   ]
  },
  {
   "cell_type": "code",
   "execution_count": null,
   "id": "62e5ed2c",
   "metadata": {},
   "outputs": [],
   "source": [
    "#creating array directly"
   ]
  },
  {
   "cell_type": "code",
   "execution_count": 16,
   "id": "fc219c0c",
   "metadata": {},
   "outputs": [],
   "source": [
    "array1= np.array([1,19,24,45,17])"
   ]
  },
  {
   "cell_type": "code",
   "execution_count": 20,
   "id": "4af7f662",
   "metadata": {},
   "outputs": [],
   "source": [
    "#using arange function"
   ]
  },
  {
   "cell_type": "code",
   "execution_count": 19,
   "id": "fe23c8e1",
   "metadata": {},
   "outputs": [
    {
     "name": "stdout",
     "output_type": "stream",
     "text": [
      "[ 10  11  12  13  14  15  16  17  18  19  20  21  22  23  24  25  26  27\n",
      "  28  29  30  31  32  33  34  35  36  37  38  39  40  41  42  43  44  45\n",
      "  46  47  48  49  50  51  52  53  54  55  56  57  58  59  60  61  62  63\n",
      "  64  65  66  67  68  69  70  71  72  73  74  75  76  77  78  79  80  81\n",
      "  82  83  84  85  86  87  88  89  90  91  92  93  94  95  96  97  98  99\n",
      " 100]\n"
     ]
    }
   ],
   "source": [
    "array2 = np.arange(10,101)\n",
    "print(array2)"
   ]
  },
  {
   "cell_type": "code",
   "execution_count": 21,
   "id": "9720f223",
   "metadata": {},
   "outputs": [
    {
     "data": {
      "text/plain": [
       "4.0"
      ]
     },
     "execution_count": 21,
     "metadata": {},
     "output_type": "execute_result"
    }
   ],
   "source": [
    "#finding the square root\n",
    "np.sqrt(16)"
   ]
  },
  {
   "cell_type": "code",
   "execution_count": 22,
   "id": "cd4f1d9b",
   "metadata": {},
   "outputs": [],
   "source": [
    "#trignometric function in numpy"
   ]
  },
  {
   "cell_type": "code",
   "execution_count": 23,
   "id": "c0dabefe",
   "metadata": {},
   "outputs": [
    {
     "data": {
      "text/plain": [
       "0.8939966636005579"
      ]
     },
     "execution_count": 23,
     "metadata": {},
     "output_type": "execute_result"
    }
   ],
   "source": [
    "np.sin(90)"
   ]
  },
  {
   "cell_type": "code",
   "execution_count": 24,
   "id": "83b0fc37",
   "metadata": {},
   "outputs": [
    {
     "data": {
      "text/plain": [
       "array([-0.54402111, -0.99999021, -0.53657292,  0.42016704,  0.99060736,\n",
       "        0.65028784, -0.28790332, -0.96139749, -0.75098725,  0.14987721,\n",
       "        0.91294525,  0.83665564, -0.00885131, -0.8462204 , -0.90557836,\n",
       "       -0.13235175,  0.76255845,  0.95637593,  0.27090579, -0.66363388,\n",
       "       -0.98803162, -0.40403765,  0.55142668,  0.99991186,  0.52908269,\n",
       "       -0.42818267, -0.99177885, -0.64353813,  0.29636858,  0.96379539,\n",
       "        0.74511316, -0.15862267, -0.91652155, -0.83177474,  0.01770193,\n",
       "        0.85090352,  0.90178835,  0.12357312, -0.76825466, -0.95375265,\n",
       "       -0.26237485,  0.67022918,  0.98662759,  0.39592515, -0.55878905,\n",
       "       -0.99975517, -0.521551  ,  0.43616476,  0.99287265,  0.63673801,\n",
       "       -0.30481062, -0.96611777, -0.7391807 ,  0.1673557 ,  0.92002604,\n",
       "        0.82682868, -0.02655115, -0.85551998, -0.89792768, -0.11478481,\n",
       "        0.77389068,  0.95105465,  0.25382336, -0.67677196, -0.98514626,\n",
       "       -0.38778164,  0.56610764,  0.99952016,  0.51397846, -0.44411267,\n",
       "       -0.99388865, -0.62988799,  0.31322878,  0.96836446,  0.73319032,\n",
       "       -0.17607562, -0.92345845, -0.82181784,  0.0353983 ,  0.86006941,\n",
       "        0.89399666,  0.10598751, -0.77946607, -0.94828214, -0.24525199,\n",
       "        0.68326171,  0.98358775,  0.37960774, -0.57338187, -0.99920683,\n",
       "       -0.50636564])"
      ]
     },
     "execution_count": 24,
     "metadata": {},
     "output_type": "execute_result"
    }
   ],
   "source": [
    "np.sin(array2)"
   ]
  },
  {
   "cell_type": "markdown",
   "id": "f62aca4d",
   "metadata": {},
   "source": [
    "### case study \n",
    "I have height and weight of different players and i want to perform different operations on that list"
   ]
  },
  {
   "cell_type": "code",
   "execution_count": 26,
   "id": "e05da9a0",
   "metadata": {},
   "outputs": [],
   "source": [
    "# Define list\n",
    "height_in = [74, 74, 72, 72, 73, 69, 69, 71, 76, 71, 73, 73, 74, 74, 69, 70, 73, 75, 78, 79, 76, 74, 76, 72, 71, 75, 77, 74, 73, 74, 78, 73, 75, 73, 75, 75, 74, 69, 71, 74, 73, 73, 76, 74, 74, 70, 72, 77, 74, 70, 73, 75, 76, 76, 78, 74, 74, 76, 77, 81, 78, 75, 77, 75, 76, 74, 72, 72, 75, 73, 73, 73, 70, 70, 70, 76, 68, 71, 72, 75, 75, 75, 75, 68, 74, 78, 71, 73, 76, 74, 74, 79, 75, 73, 76, 74, 74, 73, 72, 74, 73, 74, 72, 73, 69, 72, 73, 75, 75, 73, 72, 72, 76, 74, 72, 77, 74, 77, 75, 76, 80, 74, 74, 75, 78, 73, 73, 74, 75, 76, 71, 73, 74, 76, 76, 74, 73, 74, 70, 72, 73, 73, 73, 73, 71, 74, 74, 72, 74, 71, 74, 73, 75, 75, 79, 73, 75, 76, 74, 76, 78, 74, 76, 72, 74, 76, 74, 75, 78, 75, 72, 74, 72, 74, 70, 71, 70, 75, 71, 71, 73, 72, 71, 73, 72, 75, 74, 74, 75, 73, 77, 73, 76, 75, 74, 76, 75, 73, 71, 76, 75, 72, 71, 77, 73, 74, 71, 72, 74, 75, 73, 72, 75, 75, 74, 72, 74, 71, 70, 74, 77, 77, 75, 75, 78, 75, 76, 73, 75, 75, 79, 77, 76, 71, 75, 74, 69, 71, 76, 72, 72, 70, 72, 73, 71, 72, 71, 73, 72, 73, 74, 74, 72, 75, 74, 74, 77, 75, 73, 72, 71, 74, 77, 75, 75, 75, 78, 78, 74, 76, 78, 76, 70, 72, 80, 74, 74, 71, 70, 72, 71, 74, 71, 72, 71, 74, 69, 76, 75, 75, 76, 73, 76, 73, 77, 73, 72, 72, 77, 77, 71, 74, 74, 73, 78, 75, 73, 70, 74, 72, 73, 73, 75, 75, 74, 76, 73, 74, 75, 75, 72, 73, 73, 72, 74, 78, 76, 73, 74, 75, 70, 75, 71, 72, 78, 75, 73, 73, 71, 75, 77, 72, 69, 73, 74, 72, 70, 75, 70, 72, 72, 74, 73, 74, 76, 75, 80, 72, 75, 73, 74, 74, 73, 75, 75, 71, 73, 75, 74, 74, 72, 74, 74, 74, 73, 76, 75, 72, 73, 73, 73, 72, 72, 72, 72, 71, 75, 75, 74, 73, 75, 79, 74, 76, 73, 74, 74, 72, 74, 74, 75, 78, 74, 74, 74, 77, 70, 73, 74, 73, 71, 75, 71, 72, 77, 74, 70, 77, 73, 72, 76, 71, 76, 78, 75, 73, 78, 74, 79, 75, 76, 72, 75, 75, 70, 72, 70, 74, 71, 76, 73, 76, 71, 69, 72, 72, 69, 73, 69, 73, 74, 74, 72, 71, 72, 72, 76, 76, 76, 74, 76, 75, 71, 72, 71, 73, 75, 76, 75, 71, 75, 74, 72, 73, 73, 73, 73, 76, 72, 76, 73, 73, 73, 75, 75, 77, 73, 72, 75, 70, 74, 72, 80, 71, 71, 74, 74, 73, 75, 76, 73, 77, 72, 73, 77, 76, 71, 75, 73, 74, 77, 71, 72, 73, 69, 73, 70, 74, 76, 73, 73, 75, 73, 79, 74, 73, 74, 77, 75, 74, 73, 77, 73, 77, 74, 74, 73, 77, 74, 77, 75, 77, 75, 71, 74, 70, 79, 72, 72, 70, 74, 74, 72, 73, 72, 74, 74, 76, 82, 74, 74, 70, 73, 73, 74, 77, 72, 76, 73, 73, 72, 74, 74, 71, 72, 75, 74, 74, 77, 70, 71, 73, 76, 71, 75, 74, 72, 76, 79, 76, 73, 76, 78, 75, 76, 72, 72, 73, 73, 75, 71, 76, 70, 75, 74, 75, 73, 71, 71, 72, 73, 73, 72, 69, 73, 78, 71, 73, 75, 76, 70, 74, 77, 75, 79, 72, 77, 73, 75, 75, 75, 73, 73, 76, 77, 75, 70, 71, 71, 75, 74, 69, 70, 75, 72, 75, 73, 72, 72, 72, 76, 75, 74, 69, 73, 72, 72, 75, 77, 76, 80, 77, 76, 79, 71, 75, 73, 76, 77, 73, 76, 70, 75, 73, 75, 70, 69, 71, 72, 72, 73, 70, 70, 73, 76, 75, 72, 73, 79, 71, 72, 74, 74, 74, 72, 76, 76, 72, 72, 71, 72, 72, 70, 77, 74, 72, 76, 71, 76, 71, 73, 70, 73, 73, 72, 71, 71, 71, 72, 72, 74, 74, 74, 71, 72, 75, 72, 71, 72, 72, 72, 72, 74, 74, 77, 75, 73, 75, 73, 76, 72, 77, 75, 72, 71, 71, 75, 72, 73, 73, 71, 70, 75, 71, 76, 73, 68, 71, 72, 74, 77, 72, 76, 78, 81, 72, 73, 76, 72, 72, 74, 76, 73, 76, 75, 70, 71, 74, 72, 73, 76, 76, 73, 71, 68, 71, 71, 74, 77, 69, 72, 76, 75, 76, 75, 76, 72, 74, 76, 74, 72, 75, 78, 77, 70, 72, 79, 74, 71, 68, 77, 75, 71, 72, 70, 72, 72, 73, 72, 74, 72, 72, 75, 72, 73, 74, 72, 78, 75, 72, 74, 75, 75, 76, 74, 74, 73, 74, 71, 74, 75, 76, 74, 76, 76, 73, 75, 75, 74, 68, 72, 75, 71, 70, 72, 73, 72, 75, 74, 70, 76, 71, 82, 72, 73, 74, 71, 75, 77, 72, 74, 72, 73, 78, 77, 73, 73, 73, 73, 73, 76, 75, 70, 73, 72, 73, 75, 74, 73, 73, 76, 73, 75, 70, 77, 72, 77, 74, 75, 75, 75, 75, 72, 74, 71, 76, 71, 75, 76, 83, 75, 74, 76, 72, 72, 75, 75, 72, 77, 73, 72, 70, 74, 72, 74, 72, 71, 70, 71, 76, 74, 76, 74, 74, 74, 75, 75, 71, 71, 74, 77, 71, 74, 75, 77, 76, 74, 76, 72, 71, 72, 75, 73, 68, 72, 69, 73, 73, 75, 70, 70, 74, 75, 74, 74, 73, 74, 75, 77, 73, 74, 76, 74, 75, 73, 76, 78, 75, 73, 77, 74, 72, 74, 72, 71, 73, 75, 73, 67, 67, 76, 74, 73, 70, 75, 70, 72, 77, 79, 78, 74, 75, 75, 78, 76, 75, 69, 75, 72, 75, 73, 74, 75, 75, 73]"
   ]
  },
  {
   "cell_type": "code",
   "execution_count": 29,
   "id": "ca3193dd",
   "metadata": {},
   "outputs": [
    {
     "data": {
      "text/plain": [
       "1015"
      ]
     },
     "execution_count": 29,
     "metadata": {},
     "output_type": "execute_result"
    }
   ],
   "source": [
    "len(height_in)"
   ]
  },
  {
   "cell_type": "code",
   "execution_count": 37,
   "id": "9fa22df8",
   "metadata": {},
   "outputs": [
    {
     "data": {
      "text/plain": [
       "(1015,)"
      ]
     },
     "execution_count": 37,
     "metadata": {},
     "output_type": "execute_result"
    }
   ],
   "source": [
    "height_in.shape"
   ]
  },
  {
   "cell_type": "code",
   "execution_count": 38,
   "id": "cf9c630a",
   "metadata": {},
   "outputs": [
    {
     "data": {
      "text/plain": [
       "1015"
      ]
     },
     "execution_count": 38,
     "metadata": {},
     "output_type": "execute_result"
    }
   ],
   "source": [
    "height_in.size"
   ]
  },
  {
   "cell_type": "code",
   "execution_count": 30,
   "id": "bcd9b489",
   "metadata": {},
   "outputs": [],
   "source": [
    "height_in = np.array(height_in)"
   ]
  },
  {
   "cell_type": "code",
   "execution_count": 31,
   "id": "c351aad2",
   "metadata": {},
   "outputs": [
    {
     "data": {
      "text/plain": [
       "numpy.ndarray"
      ]
     },
     "execution_count": 31,
     "metadata": {},
     "output_type": "execute_result"
    }
   ],
   "source": [
    "type(height_in)"
   ]
  },
  {
   "cell_type": "code",
   "execution_count": 33,
   "id": "fddddfb4",
   "metadata": {},
   "outputs": [],
   "source": [
    "height_m = height_in*0.0254"
   ]
  },
  {
   "cell_type": "code",
   "execution_count": 36,
   "id": "2618fffa",
   "metadata": {},
   "outputs": [
    {
     "name": "stdout",
     "output_type": "stream",
     "text": [
      "[1.8796 1.8796 1.8288 ... 1.905  1.905  1.8542]\n"
     ]
    }
   ],
   "source": [
    "print(height_m)"
   ]
  },
  {
   "cell_type": "code",
   "execution_count": 39,
   "id": "d308c3f3",
   "metadata": {},
   "outputs": [],
   "source": [
    "#problem statement 3- I have weight of these players convert it into Kg right now weight is in lbs "
   ]
  },
  {
   "cell_type": "code",
   "execution_count": 40,
   "id": "565e2c6b",
   "metadata": {},
   "outputs": [],
   "source": [
    "weights_lb = [180, 215, 210, 210, 188, 176, 209, 200, 231, 180, 188, 180, 185, 160, 180, 185, 189, 185, 219, 230, 205, 230, 195, 180, 192, 225, 203, 195, 182, 188, 200, 180, 200, 200, 245, 240, 215, 185, 175, 199, 200, 215, 200, 205, 206, 186, 188, 220, 210, 195, 200, 200, 212, 224, 210, 205, 220, 195, 200, 260, 228, 270, 200, 210, 190, 220, 180, 205, 210, 220, 211, 200, 180, 190, 170, 230, 155, 185, 185, 200, 225, 225, 220, 160, 205, 235, 250, 210, 190, 160, 200, 205, 222, 195, 205, 220, 220, 170, 185, 195, 220, 230, 180, 220, 180, 180, 170, 210, 215, 200, 213, 180, 192, 235, 185, 235, 210, 222, 210, 230, 220, 180, 190, 200, 210, 194, 180, 190, 240, 200, 198, 200, 195, 210, 220, 190, 210, 225, 180, 185, 170, 185, 185, 180, 178, 175, 200, 204, 211, 190, 210, 190, 190, 185, 290, 175, 185, 200, 220, 170, 220, 190, 220, 205, 200, 250, 225, 215, 210, 215, 195, 200, 194, 220, 180, 180, 170, 195, 180, 170, 206, 205, 200, 225, 201, 225, 233, 180, 225, 180, 220, 180, 237, 215, 190, 235, 190, 180, 165, 195, 200, 190, 190, 185, 185, 205, 190, 205, 206, 220, 208, 170, 195, 210, 190, 211, 230, 170, 185, 185, 241, 225, 210, 175, 230, 200, 215, 198, 226, 278, 215, 230, 240, 184, 219, 170, 218, 190, 225, 220, 176, 190, 197, 204, 167, 180, 195, 220, 215, 185, 190, 205, 205, 200, 210, 215, 200, 205, 211, 190, 208, 200, 210, 232, 230, 210, 220, 210, 202, 212, 225, 170, 190, 200, 237, 220, 170, 193, 190, 150, 220, 200, 190, 185, 185, 200, 172, 220, 225, 190, 195, 219, 190, 197, 200, 195, 210, 177, 220, 235, 180, 195, 195, 190, 230, 190, 200, 190, 190, 200, 200, 184, 200, 180, 219, 187, 200, 220, 205, 190, 170, 160, 215, 175, 205, 200, 214, 200, 190, 180, 205, 220, 190, 215, 235, 191, 200, 181, 200, 210, 240, 185, 165, 190, 185, 175, 155, 210, 170, 175, 220, 210, 205, 200, 205, 195, 240, 150, 200, 215, 202, 200, 190, 205, 190, 160, 215, 185, 200, 190, 210, 185, 220, 190, 202, 205, 220, 175, 160, 190, 200, 229, 206, 220, 180, 195, 175, 188, 230, 190, 200, 190, 219, 235, 180, 180, 180, 200, 234, 185, 220, 223, 200, 210, 200, 210, 190, 177, 227, 180, 195, 199, 175, 185, 240, 210, 180, 194, 225, 180, 205, 193, 230, 230, 220, 200, 249, 190, 208, 245, 250, 160, 192, 220, 170, 197, 155, 190, 200, 220, 210, 228, 190, 160, 184, 180, 180, 200, 176, 160, 222, 211, 195, 200, 175, 206, 240, 185, 260, 185, 221, 205, 200, 170, 201, 205, 185, 205, 245, 220, 210, 220, 185, 175, 170, 180, 200, 210, 175, 220, 206, 180, 210, 195, 200, 200, 164, 180, 220, 195, 205, 170, 240, 210, 195, 200, 205, 192, 190, 170, 240, 200, 205, 175, 250, 220, 224, 210, 195, 180, 245, 175, 180, 215, 175, 180, 195, 230, 230, 205, 215, 195, 180, 205, 180, 190, 180, 190, 190, 220, 210, 255, 190, 230, 200, 205, 210, 225, 215, 220, 205, 200, 220, 197, 225, 187, 245, 185, 185, 175, 200, 180, 188, 225, 200, 210, 245, 213, 231, 165, 228, 210, 250, 191, 190, 200, 215, 254, 232, 180, 215, 220, 180, 200, 170, 195, 210, 200, 220, 165, 180, 200, 200, 170, 224, 220, 180, 198, 240, 239, 185, 210, 220, 200, 195, 220, 230, 170, 220, 230, 165, 205, 192, 210, 205, 200, 210, 185, 195, 202, 205, 195, 180, 200, 185, 240, 185, 220, 205, 205, 180, 201, 190, 208, 240, 180, 230, 195, 215, 190, 195, 215, 215, 220, 220, 230, 195, 190, 195, 209, 204, 170, 185, 205, 175, 210, 190, 180, 180, 160, 235, 200, 210, 180, 190, 197, 203, 205, 170, 200, 250, 200, 220, 200, 190, 170, 190, 220, 215, 206, 215, 185, 235, 188, 230, 195, 168, 190, 160, 200, 200, 189, 180, 190, 200, 220, 187, 240, 190, 180, 185, 210, 220, 219, 190, 193, 175, 180, 215, 210, 200, 190, 185, 220, 170, 195, 205, 195, 210, 190, 190, 180, 220, 190, 186, 185, 190, 180, 190, 170, 210, 240, 220, 180, 210, 210, 195, 160, 180, 205, 200, 185, 245, 190, 210, 200, 200, 222, 215, 240, 170, 220, 156, 190, 202, 221, 200, 190, 210, 190, 200, 165, 190, 185, 230, 208, 209, 175, 180, 200, 205, 200, 250, 210, 230, 244, 202, 240, 200, 215, 177, 210, 170, 215, 217, 198, 200, 220, 170, 200, 230, 231, 183, 192, 167, 190, 180, 180, 215, 160, 205, 223, 175, 170, 190, 240, 175, 230, 223, 196, 167, 195, 190, 250, 190, 190, 190, 170, 160, 150, 225, 220, 209, 210, 176, 260, 195, 190, 184, 180, 195, 195, 219, 225, 212, 202, 185, 200, 209, 200, 195, 228, 210, 190, 212, 190, 218, 220, 190, 235, 210, 200, 188, 210, 235, 188, 215, 216, 220, 180, 185, 200, 210, 220, 185, 231, 210, 195, 200, 205, 200, 190, 250, 185, 180, 170, 180, 208, 235, 215, 244, 220, 185, 230, 190, 200, 180, 190, 196, 180, 230, 224, 160, 178, 205, 185, 210, 180, 190, 200, 257, 190, 220, 165, 205, 200, 208, 185, 215, 170, 235, 210, 170, 180, 170, 190, 150, 230, 203, 260, 246, 186, 210, 198, 210, 215, 180, 200, 245, 200, 192, 192, 200, 192, 205, 190, 186, 170, 197, 219, 200, 220, 207, 225, 207, 212, 225, 170, 190, 210, 230, 210, 200, 238, 234, 222, 200, 190, 170, 220, 223, 210, 215, 196, 175, 175, 189, 205, 210, 180, 180, 197, 220, 228, 190, 204, 165, 216, 220, 208, 210, 215, 195, 200, 215, 229, 240, 207, 205, 208, 185, 190, 170, 208, 225, 190, 225, 185, 180, 165, 240, 220, 212, 163, 215, 175, 205, 210, 205, 208, 215, 180, 200, 230, 211, 230, 190, 220, 180, 205, 190, 180, 205, 190, 195]"
   ]
  },
  {
   "cell_type": "code",
   "execution_count": 41,
   "id": "6a1d4729",
   "metadata": {},
   "outputs": [],
   "source": [
    "weights_lb= np.array(weights_lb)"
   ]
  },
  {
   "cell_type": "code",
   "execution_count": 42,
   "id": "2fe357d2",
   "metadata": {},
   "outputs": [],
   "source": [
    "weights_kg= weights_lb*0.453592"
   ]
  },
  {
   "cell_type": "code",
   "execution_count": 43,
   "id": "0949d54f",
   "metadata": {},
   "outputs": [
    {
     "data": {
      "text/plain": [
       "array([81.64656, 97.52228, 95.25432, ..., 92.98636, 86.18248, 88.45044])"
      ]
     },
     "execution_count": 43,
     "metadata": {},
     "output_type": "execute_result"
    }
   ],
   "source": [
    "weights_kg"
   ]
  },
  {
   "cell_type": "code",
   "execution_count": null,
   "id": "455e69d5",
   "metadata": {},
   "outputs": [],
   "source": [
    "#problem statement 4- Calculate the BMI of these players\n",
    "#bmi = weight(kg)/(height in meters **2)"
   ]
  },
  {
   "cell_type": "code",
   "execution_count": 44,
   "id": "f3983bb2",
   "metadata": {},
   "outputs": [],
   "source": [
    "bmi= weights_kg/(height_m**2)"
   ]
  },
  {
   "cell_type": "code",
   "execution_count": 45,
   "id": "e50573dd",
   "metadata": {},
   "outputs": [
    {
     "data": {
      "text/plain": [
       "array([23.11037639, 27.60406069, 28.48080465, ..., 25.62295933,\n",
       "       23.74810865, 25.72686361])"
      ]
     },
     "execution_count": 45,
     "metadata": {},
     "output_type": "execute_result"
    }
   ],
   "source": [
    "bmi"
   ]
  },
  {
   "cell_type": "code",
   "execution_count": 46,
   "id": "53a503e5",
   "metadata": {},
   "outputs": [
    {
     "data": {
      "text/plain": [
       "23.11037638875862"
      ]
     },
     "execution_count": 46,
     "metadata": {},
     "output_type": "execute_result"
    }
   ],
   "source": [
    "bmi[0] #feching first element from array"
   ]
  },
  {
   "cell_type": "code",
   "execution_count": 47,
   "id": "0af1c63e",
   "metadata": {},
   "outputs": [
    {
     "data": {
      "text/plain": [
       "25.726863613607133"
      ]
     },
     "execution_count": 47,
     "metadata": {},
     "output_type": "execute_result"
    }
   ],
   "source": [
    "bmi[-1]  #feching last element from array"
   ]
  },
  {
   "cell_type": "code",
   "execution_count": 48,
   "id": "f6b58014",
   "metadata": {},
   "outputs": [
    {
     "data": {
      "text/plain": [
       "array([23.11037639, 27.60406069, 28.48080465, 28.48080465, 24.80333518])"
      ]
     },
     "execution_count": 48,
     "metadata": {},
     "output_type": "execute_result"
    }
   ],
   "source": [
    "bmi[0:5]"
   ]
  },
  {
   "cell_type": "code",
   "execution_count": null,
   "id": "5d176c19",
   "metadata": {},
   "outputs": [],
   "source": [
    "#problem statement\n",
    "#find the number of participants whose bmi is less than 21"
   ]
  },
  {
   "cell_type": "code",
   "execution_count": 49,
   "id": "2dac81e5",
   "metadata": {},
   "outputs": [
    {
     "data": {
      "text/plain": [
       "array([False, False, False, ..., False, False, False])"
      ]
     },
     "execution_count": 49,
     "metadata": {},
     "output_type": "execute_result"
    }
   ],
   "source": [
    "bmi<21"
   ]
  },
  {
   "cell_type": "code",
   "execution_count": 50,
   "id": "eaded9a9",
   "metadata": {},
   "outputs": [],
   "source": [
    "#extracting the number of participants whose bmi is less than 21"
   ]
  },
  {
   "cell_type": "code",
   "execution_count": 51,
   "id": "80d3184c",
   "metadata": {},
   "outputs": [
    {
     "data": {
      "text/plain": [
       "array([20.54255679, 20.54255679, 20.69282047, 20.69282047, 20.34343189,\n",
       "       20.34343189, 20.69282047, 20.15883472, 19.4984471 , 20.69282047,\n",
       "       20.9205219 ])"
      ]
     },
     "execution_count": 51,
     "metadata": {},
     "output_type": "execute_result"
    }
   ],
   "source": [
    "bmi[bmi<21]"
   ]
  },
  {
   "cell_type": "code",
   "execution_count": 52,
   "id": "3e236577",
   "metadata": {},
   "outputs": [],
   "source": [
    "underweight_players= bmi[bmi<21]"
   ]
  },
  {
   "cell_type": "code",
   "execution_count": 53,
   "id": "d8fafbef",
   "metadata": {},
   "outputs": [
    {
     "data": {
      "text/plain": [
       "array([20.54255679, 20.54255679, 20.69282047, 20.69282047, 20.34343189,\n",
       "       20.34343189, 20.69282047, 20.15883472, 19.4984471 , 20.69282047,\n",
       "       20.9205219 ])"
      ]
     },
     "execution_count": 53,
     "metadata": {},
     "output_type": "execute_result"
    }
   ],
   "source": [
    "underweight_players"
   ]
  },
  {
   "cell_type": "code",
   "execution_count": 54,
   "id": "6a69322a",
   "metadata": {},
   "outputs": [
    {
     "data": {
      "text/plain": [
       "11"
      ]
     },
     "execution_count": 54,
     "metadata": {},
     "output_type": "execute_result"
    }
   ],
   "source": [
    "len(underweight_players)"
   ]
  },
  {
   "cell_type": "code",
   "execution_count": null,
   "id": "d2edee74",
   "metadata": {},
   "outputs": [],
   "source": [
    "#find the largest value of bmi"
   ]
  },
  {
   "cell_type": "code",
   "execution_count": 55,
   "id": "c4126642",
   "metadata": {},
   "outputs": [
    {
     "data": {
      "text/plain": [
       "35.26194861031698"
      ]
     },
     "execution_count": 55,
     "metadata": {},
     "output_type": "execute_result"
    }
   ],
   "source": [
    "bmi.max()"
   ]
  },
  {
   "cell_type": "code",
   "execution_count": 56,
   "id": "c260bf56",
   "metadata": {},
   "outputs": [
    {
     "data": {
      "text/plain": [
       "35.26194861031698"
      ]
     },
     "execution_count": 56,
     "metadata": {},
     "output_type": "execute_result"
    }
   ],
   "source": [
    "max(bmi)"
   ]
  },
  {
   "cell_type": "code",
   "execution_count": 57,
   "id": "b4a3c76f",
   "metadata": {},
   "outputs": [],
   "source": [
    "#find the lowest value of bmi"
   ]
  },
  {
   "cell_type": "code",
   "execution_count": 58,
   "id": "e3184ee2",
   "metadata": {},
   "outputs": [
    {
     "data": {
      "text/plain": [
       "19.498447103560874"
      ]
     },
     "execution_count": 58,
     "metadata": {},
     "output_type": "execute_result"
    }
   ],
   "source": [
    "min(bmi)"
   ]
  },
  {
   "cell_type": "code",
   "execution_count": 59,
   "id": "75c56f72",
   "metadata": {},
   "outputs": [
    {
     "data": {
      "text/plain": [
       "19.498447103560874"
      ]
     },
     "execution_count": 59,
     "metadata": {},
     "output_type": "execute_result"
    }
   ],
   "source": [
    "bmi.min()"
   ]
  },
  {
   "cell_type": "code",
   "execution_count": 60,
   "id": "029f5b0f",
   "metadata": {},
   "outputs": [],
   "source": [
    "#find the average of bmi"
   ]
  },
  {
   "cell_type": "code",
   "execution_count": 61,
   "id": "e219a26f",
   "metadata": {},
   "outputs": [
    {
     "data": {
      "text/plain": [
       "26.05684565448554"
      ]
     },
     "execution_count": 61,
     "metadata": {},
     "output_type": "execute_result"
    }
   ],
   "source": [
    "bmi.mean()"
   ]
  },
  {
   "cell_type": "code",
   "execution_count": 62,
   "id": "851d9fca",
   "metadata": {},
   "outputs": [],
   "source": [
    "### end of case study"
   ]
  },
  {
   "cell_type": "code",
   "execution_count": 63,
   "id": "dc715300",
   "metadata": {},
   "outputs": [],
   "source": [
    "#creating array of zeroes"
   ]
  },
  {
   "cell_type": "code",
   "execution_count": 64,
   "id": "2820592d",
   "metadata": {},
   "outputs": [
    {
     "data": {
      "text/plain": [
       "array([0., 0., 0., 0., 0., 0.])"
      ]
     },
     "execution_count": 64,
     "metadata": {},
     "output_type": "execute_result"
    }
   ],
   "source": [
    "np.zeros(6)"
   ]
  },
  {
   "cell_type": "code",
   "execution_count": 65,
   "id": "8c382ee5",
   "metadata": {},
   "outputs": [
    {
     "data": {
      "text/plain": [
       "array([1., 1., 1., 1., 1., 1., 1.])"
      ]
     },
     "execution_count": 65,
     "metadata": {},
     "output_type": "execute_result"
    }
   ],
   "source": [
    "#creating array of ones\n",
    "np.ones(7)"
   ]
  },
  {
   "cell_type": "code",
   "execution_count": 66,
   "id": "76ff13b0",
   "metadata": {},
   "outputs": [
    {
     "data": {
      "text/plain": [
       "array([1, 1, 1, 1, 1, 1, 1])"
      ]
     },
     "execution_count": 66,
     "metadata": {},
     "output_type": "execute_result"
    }
   ],
   "source": [
    "np.ones(7, dtype=int) #creating array of ones with datatype integer"
   ]
  },
  {
   "cell_type": "code",
   "execution_count": 69,
   "id": "506cd987",
   "metadata": {},
   "outputs": [
    {
     "data": {
      "text/plain": [
       "array([0.00893306, 0.70631518, 0.9730197 , 0.45848372, 0.52333025,\n",
       "       0.84263446, 0.81435851, 0.09088992, 0.04403763, 0.8339387 ])"
      ]
     },
     "execution_count": 69,
     "metadata": {},
     "output_type": "execute_result"
    }
   ],
   "source": [
    "#generating random numbers between 0 and 1\n",
    "np.random.random(10)"
   ]
  },
  {
   "cell_type": "code",
   "execution_count": 82,
   "id": "e931c755",
   "metadata": {},
   "outputs": [
    {
     "data": {
      "text/plain": [
       "6"
      ]
     },
     "execution_count": 82,
     "metadata": {},
     "output_type": "execute_result"
    }
   ],
   "source": [
    "np.random.randint(10) #it would create a random number before specified limit"
   ]
  },
  {
   "cell_type": "code",
   "execution_count": 110,
   "id": "d46938cb",
   "metadata": {},
   "outputs": [
    {
     "data": {
      "text/plain": [
       "6438"
      ]
     },
     "execution_count": 110,
     "metadata": {},
     "output_type": "execute_result"
    }
   ],
   "source": [
    "np.random.randint(1000,10000) #it would create a random number between specified limit"
   ]
  },
  {
   "cell_type": "code",
   "execution_count": 111,
   "id": "9a25d0f1",
   "metadata": {},
   "outputs": [
    {
     "data": {
      "text/plain": [
       "array([6164, 1981, 2658, 3281, 3137, 1927, 9200])"
      ]
     },
     "execution_count": 111,
     "metadata": {},
     "output_type": "execute_result"
    }
   ],
   "source": [
    "np.random.randint(1000,10000,7) "
   ]
  },
  {
   "cell_type": "code",
   "execution_count": 112,
   "id": "996b97d3",
   "metadata": {},
   "outputs": [
    {
     "data": {
      "text/plain": [
       "array([8483, 9406, 3198, 2534, 9099, 7342, 2840])"
      ]
     },
     "execution_count": 112,
     "metadata": {},
     "output_type": "execute_result"
    }
   ],
   "source": [
    "np.random.randint(1000,10000,size= 7) "
   ]
  },
  {
   "cell_type": "markdown",
   "id": "da72ea10",
   "metadata": {},
   "source": [
    "\n",
    "Apart from the methods mentioned above, there are a few more NumPy functions that you can use to create special NumPy arrays:\n",
    "\n",
    "-  `np.full()`: Create a constant array of any number ‘n’\n",
    "-  `np.tile()`: Create a new array by repeating an existing array for a particular number of times\n",
    "-  `np.eye()`: Create an identity matrix of any dimension\n",
    "-  `np.random.randint()`: Create a random array of integers within a particular range"
   ]
  },
  {
   "cell_type": "code",
   "execution_count": 114,
   "id": "8d37181f",
   "metadata": {},
   "outputs": [],
   "source": [
    "#horizontal stack (hstack) and vertical stack (vstack) in numpy"
   ]
  },
  {
   "cell_type": "code",
   "execution_count": 113,
   "id": "39e31595",
   "metadata": {},
   "outputs": [],
   "source": [
    "a= np.array([2,3,4])\n",
    "b= np.array([5,6,7])"
   ]
  },
  {
   "cell_type": "code",
   "execution_count": 115,
   "id": "f850fc61",
   "metadata": {},
   "outputs": [
    {
     "data": {
      "text/plain": [
       "array([2, 3, 4, 5, 6, 7])"
      ]
     },
     "execution_count": 115,
     "metadata": {},
     "output_type": "execute_result"
    }
   ],
   "source": [
    "np.hstack((a,b))"
   ]
  },
  {
   "cell_type": "code",
   "execution_count": 117,
   "id": "05c11d02",
   "metadata": {},
   "outputs": [
    {
     "data": {
      "text/plain": [
       "array([[2, 3, 4],\n",
       "       [5, 6, 7]])"
      ]
     },
     "execution_count": 117,
     "metadata": {},
     "output_type": "execute_result"
    }
   ],
   "source": [
    "np.vstack((a,b))"
   ]
  },
  {
   "cell_type": "code",
   "execution_count": null,
   "id": "fe6a2e82",
   "metadata": {},
   "outputs": [],
   "source": [
    "#reshaping the matrix"
   ]
  },
  {
   "cell_type": "code",
   "execution_count": 118,
   "id": "74732ebe",
   "metadata": {},
   "outputs": [],
   "source": [
    "D = np.arange(12)"
   ]
  },
  {
   "cell_type": "code",
   "execution_count": 119,
   "id": "ade9c9be",
   "metadata": {},
   "outputs": [
    {
     "data": {
      "text/plain": [
       "array([ 0,  1,  2,  3,  4,  5,  6,  7,  8,  9, 10, 11])"
      ]
     },
     "execution_count": 119,
     "metadata": {},
     "output_type": "execute_result"
    }
   ],
   "source": [
    "D"
   ]
  },
  {
   "cell_type": "code",
   "execution_count": 121,
   "id": "65966ee4",
   "metadata": {},
   "outputs": [
    {
     "name": "stdout",
     "output_type": "stream",
     "text": [
      "[[ 0  1  2]\n",
      " [ 3  4  5]\n",
      " [ 6  7  8]\n",
      " [ 9 10 11]]\n"
     ]
    }
   ],
   "source": [
    "x1 = D.reshape(4,3)\n",
    "print(x1)"
   ]
  },
  {
   "cell_type": "code",
   "execution_count": 122,
   "id": "734cdcc3",
   "metadata": {},
   "outputs": [
    {
     "name": "stdout",
     "output_type": "stream",
     "text": [
      "[[ 0  1  2  3]\n",
      " [ 4  5  6  7]\n",
      " [ 8  9 10 11]]\n"
     ]
    }
   ],
   "source": [
    "x2 = D.reshape(3,4)\n",
    "print(x2)"
   ]
  },
  {
   "cell_type": "code",
   "execution_count": 123,
   "id": "12dfa276",
   "metadata": {},
   "outputs": [
    {
     "name": "stdout",
     "output_type": "stream",
     "text": [
      "[[ 0  1  2  3  4  5]\n",
      " [ 6  7  8  9 10 11]]\n"
     ]
    }
   ],
   "source": [
    "x3 = D.reshape(2,6)\n",
    "print(x3)"
   ]
  },
  {
   "cell_type": "code",
   "execution_count": 124,
   "id": "b60b20cf",
   "metadata": {},
   "outputs": [
    {
     "name": "stdout",
     "output_type": "stream",
     "text": [
      "[[ 0]\n",
      " [ 1]\n",
      " [ 2]\n",
      " [ 3]\n",
      " [ 4]\n",
      " [ 5]\n",
      " [ 6]\n",
      " [ 7]\n",
      " [ 8]\n",
      " [ 9]\n",
      " [10]\n",
      " [11]]\n"
     ]
    }
   ],
   "source": [
    "x4 = D.reshape(12,1)\n",
    "print(x4)"
   ]
  },
  {
   "cell_type": "markdown",
   "id": "c72429c4",
   "metadata": {},
   "source": [
    "#### Topics to study <br>\n",
    "-matrix <br>\n",
    "-rank of matrix <br>\n",
    "-reshape <br>\n",
    "-inverse <br>\n",
    "-relation of matrix with linear algebra <br>\n",
    "-multiplication of matrix <br>\n",
    "-dot product <br>\n",
    "-identity matrix <br>"
   ]
  },
  {
   "cell_type": "code",
   "execution_count": 128,
   "id": "488cd264",
   "metadata": {},
   "outputs": [
    {
     "data": {
      "text/plain": [
       "2"
      ]
     },
     "execution_count": 128,
     "metadata": {},
     "output_type": "execute_result"
    }
   ],
   "source": [
    "np.linalg.matrix_rank() # finding rank of matrix"
   ]
  },
  {
   "cell_type": "code",
   "execution_count": 129,
   "id": "6fcef096",
   "metadata": {},
   "outputs": [],
   "source": [
    "#Trignotmetric functions in numpy\n",
    "#np.sin(theta)\n",
    "#np.cos(theta)\n",
    "#np.tan(theta)"
   ]
  },
  {
   "cell_type": "code",
   "execution_count": 130,
   "id": "5e50f221",
   "metadata": {},
   "outputs": [
    {
     "data": {
      "text/plain": [
       "3.141592653589793"
      ]
     },
     "execution_count": 130,
     "metadata": {},
     "output_type": "execute_result"
    }
   ],
   "source": [
    "np.pi"
   ]
  },
  {
   "cell_type": "code",
   "execution_count": 131,
   "id": "f4249ea9",
   "metadata": {},
   "outputs": [
    {
     "data": {
      "text/plain": [
       "array([[1, 2],\n",
       "       [3, 4],\n",
       "       [5, 6]])"
      ]
     },
     "execution_count": 131,
     "metadata": {},
     "output_type": "execute_result"
    }
   ],
   "source": [
    "data = np.array([[1, 2], [3, 4], [5, 6]])\n",
    "data\n"
   ]
  },
  {
   "cell_type": "code",
   "execution_count": 132,
   "id": "b47d8cd9",
   "metadata": {},
   "outputs": [],
   "source": [
    "#more topics to refer in numpy\n",
    "#different dimensions of matrix  (very important)"
   ]
  }
 ],
 "metadata": {
  "kernelspec": {
   "display_name": "Python 3 (ipykernel)",
   "language": "python",
   "name": "python3"
  },
  "language_info": {
   "codemirror_mode": {
    "name": "ipython",
    "version": 3
   },
   "file_extension": ".py",
   "mimetype": "text/x-python",
   "name": "python",
   "nbconvert_exporter": "python",
   "pygments_lexer": "ipython3",
   "version": "3.10.9"
  }
 },
 "nbformat": 4,
 "nbformat_minor": 5
}
